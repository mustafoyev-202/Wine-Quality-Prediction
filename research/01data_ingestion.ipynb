{
 "cells": [
  {
   "cell_type": "code",
   "id": "initial_id",
   "metadata": {
    "collapsed": true,
    "ExecuteTime": {
     "end_time": "2024-09-14T14:38:29.560871Z",
     "start_time": "2024-09-14T14:38:29.550741Z"
    }
   },
   "source": "import os",
   "outputs": [],
   "execution_count": 1
  },
  {
   "metadata": {
    "ExecuteTime": {
     "end_time": "2024-09-14T14:38:29.576793Z",
     "start_time": "2024-09-14T14:38:29.566823Z"
    }
   },
   "cell_type": "code",
   "source": "%pwd",
   "id": "fe033d36d71b77fe",
   "outputs": [
    {
     "data": {
      "text/plain": [
       "'D:\\\\AI Projects\\\\Wine-Quality-Prediction\\\\research'"
      ]
     },
     "execution_count": 2,
     "metadata": {},
     "output_type": "execute_result"
    }
   ],
   "execution_count": 2
  },
  {
   "metadata": {
    "ExecuteTime": {
     "end_time": "2024-09-14T14:38:29.672024Z",
     "start_time": "2024-09-14T14:38:29.667026Z"
    }
   },
   "cell_type": "code",
   "source": "os.chdir('../')",
   "id": "88bad58b7c1f86bb",
   "outputs": [],
   "execution_count": 3
  },
  {
   "metadata": {
    "ExecuteTime": {
     "end_time": "2024-09-14T14:38:29.702928Z",
     "start_time": "2024-09-14T14:38:29.690490Z"
    }
   },
   "cell_type": "code",
   "source": "%pwd",
   "id": "8f0d46d28c6cdaf0",
   "outputs": [
    {
     "data": {
      "text/plain": [
       "'D:\\\\AI Projects\\\\Wine-Quality-Prediction'"
      ]
     },
     "execution_count": 4,
     "metadata": {},
     "output_type": "execute_result"
    }
   ],
   "execution_count": 4
  },
  {
   "metadata": {
    "ExecuteTime": {
     "end_time": "2024-09-14T14:38:29.795897Z",
     "start_time": "2024-09-14T14:38:29.781897Z"
    }
   },
   "cell_type": "code",
   "source": [
    "from dataclasses import dataclass\n",
    "from pathlib import Path\n",
    "\n",
    "\n",
    "@dataclass(frozen=True)\n",
    "class DataIngestionConfig:\n",
    "    root_dir: Path\n",
    "    source_URL: str\n",
    "    local_data_file: Path\n",
    "    unzip_dir: Path"
   ],
   "id": "58232a43d46fdc21",
   "outputs": [],
   "execution_count": 5
  },
  {
   "metadata": {
    "ExecuteTime": {
     "end_time": "2024-09-14T14:38:30.001895Z",
     "start_time": "2024-09-14T14:38:29.813126Z"
    }
   },
   "cell_type": "code",
   "source": [
    "from src.Wine_Quality_Prediction.constants import *\n",
    "from src.Wine_Quality_Prediction.utils.common import read_yaml, create_directories"
   ],
   "id": "5ac7b597d83075e6",
   "outputs": [],
   "execution_count": 6
  },
  {
   "metadata": {
    "ExecuteTime": {
     "end_time": "2024-09-14T14:38:30.033888Z",
     "start_time": "2024-09-14T14:38:30.019871Z"
    }
   },
   "cell_type": "code",
   "source": [
    "class ConfigurationManager:\n",
    "    def __init__(\n",
    "            self,\n",
    "            config_filepath=CONFIG_FILE_PATH,\n",
    "            params_filepath=PARAMS_FILE_PATH,\n",
    "            schema_filepath=SCHEMA_FILE_PATH):\n",
    "        self.config = read_yaml(config_filepath)\n",
    "        self.params = read_yaml(params_filepath)\n",
    "        self.schema = read_yaml(schema_filepath)\n",
    "\n",
    "        create_directories([self.config.artifacts_root])\n",
    "\n",
    "    def get_data_ingestion_config(self) -> DataIngestionConfig:\n",
    "        config = self.config.data_ingestion\n",
    "\n",
    "        create_directories([config.root_dir])\n",
    "\n",
    "        data_ingestion_config = DataIngestionConfig(\n",
    "            root_dir=config.root_dir,\n",
    "            source_URL=config.source_URL,\n",
    "            local_data_file=config.local_data_file,\n",
    "            unzip_dir=config.unzip_dir\n",
    "        )\n",
    "\n",
    "        return data_ingestion_config"
   ],
   "id": "d32b2ea5377c6a19",
   "outputs": [],
   "execution_count": 7
  },
  {
   "metadata": {
    "ExecuteTime": {
     "end_time": "2024-09-14T14:38:30.065886Z",
     "start_time": "2024-09-14T14:38:30.051870Z"
    }
   },
   "cell_type": "code",
   "source": [
    "import os\n",
    "import urllib.request as request\n",
    "import zipfile\n",
    "from Wine_Quality_Prediction import logger\n",
    "from Wine_Quality_Prediction.utils.common import get_size"
   ],
   "id": "114aee655d5eecf2",
   "outputs": [],
   "execution_count": 8
  },
  {
   "metadata": {
    "ExecuteTime": {
     "end_time": "2024-09-14T14:38:30.097886Z",
     "start_time": "2024-09-14T14:38:30.082872Z"
    }
   },
   "cell_type": "code",
   "source": [
    "class DataIngestion:\n",
    "    def __init__(self, config: DataIngestionConfig):\n",
    "        self.config = config\n",
    "\n",
    "    def download_file(self):\n",
    "        if not os.path.exists(self.config.local_data_file):\n",
    "            filename, headers = request.urlretrieve(\n",
    "                url=self.config.source_URL,\n",
    "                filename=self.config.local_data_file\n",
    "            )\n",
    "            logger.info(f\"{filename} download! with following info: \\n{headers}\")\n",
    "        else:\n",
    "            logger.info(f\"File already exists of size: {get_size(Path(self.config.local_data_file))}\")\n",
    "\n",
    "    def extract_zip_file(self):\n",
    "        \"\"\"\n",
    "        zip_file_path: str\n",
    "        Extracts the zip file into the data directory\n",
    "        Function returns None\n",
    "        \"\"\"\n",
    "        unzip_path = self.config.unzip_dir\n",
    "        os.makedirs(unzip_path, exist_ok=True)\n",
    "        with zipfile.ZipFile(self.config.local_data_file, 'r') as zip_ref:\n",
    "            zip_ref.extractall(unzip_path)"
   ],
   "id": "534e7363cf6aae34",
   "outputs": [],
   "execution_count": 9
  },
  {
   "metadata": {
    "ExecuteTime": {
     "end_time": "2024-09-14T14:38:31.403165Z",
     "start_time": "2024-09-14T14:38:30.117873Z"
    }
   },
   "cell_type": "code",
   "source": [
    "try:\n",
    "    config = ConfigurationManager()\n",
    "    data_ingestion_config = config.get_data_ingestion_config()\n",
    "    data_ingestion = DataIngestion(config=data_ingestion_config)\n",
    "    data_ingestion.download_file()\n",
    "    data_ingestion.extract_zip_file()\n",
    "except Exception as e:\n",
    "    raise e"
   ],
   "id": "dd7160610051ffd3",
   "outputs": [
    {
     "name": "stdout",
     "output_type": "stream",
     "text": [
      "[2024-09-14 19:38:30,128: INFO: common: yaml file: config\\config.yaml loaded successfully]\n",
      "[2024-09-14 19:38:30,131: INFO: common: yaml file: params.yaml loaded successfully]\n",
      "[2024-09-14 19:38:30,133: INFO: common: yaml file: schema.yaml loaded successfully]\n",
      "[2024-09-14 19:38:30,134: INFO: common: created directory at: artifacts]\n",
      "[2024-09-14 19:38:30,135: INFO: common: created directory at: artifacts/data_ingestion]\n",
      "[2024-09-14 19:38:31,396: INFO: 1622266342: artifacts/data_ingestion/data.zip download! with following info: \n",
      "Connection: close\n",
      "Content-Length: 23329\n",
      "Cache-Control: max-age=300\n",
      "Content-Security-Policy: default-src 'none'; style-src 'unsafe-inline'; sandbox\n",
      "Content-Type: application/zip\n",
      "ETag: \"c69888a4ae59bc5a893392785a938ccd4937981c06ba8a9d6a21aa52b4ab5b6e\"\n",
      "Strict-Transport-Security: max-age=31536000\n",
      "X-Content-Type-Options: nosniff\n",
      "X-Frame-Options: deny\n",
      "X-XSS-Protection: 1; mode=block\n",
      "X-GitHub-Request-Id: 79EC:2926F0:83A37E:8A5C4C:66E59FE7\n",
      "Accept-Ranges: bytes\n",
      "Date: Sat, 14 Sep 2024 14:38:31 GMT\n",
      "Via: 1.1 varnish\n",
      "X-Served-By: cache-fra-eddf8230075-FRA\n",
      "X-Cache: MISS\n",
      "X-Cache-Hits: 0\n",
      "X-Timer: S1726324711.190690,VS0,VE153\n",
      "Vary: Authorization,Accept-Encoding,Origin\n",
      "Access-Control-Allow-Origin: *\n",
      "Cross-Origin-Resource-Policy: cross-origin\n",
      "X-Fastly-Request-ID: c14c0cc0db7935bfaf45bd719f6ebfd1ff256e0f\n",
      "Expires: Sat, 14 Sep 2024 14:43:31 GMT\n",
      "Source-Age: 0\n",
      "\n",
      "]\n"
     ]
    }
   ],
   "execution_count": 10
  },
  {
   "metadata": {
    "ExecuteTime": {
     "end_time": "2024-09-14T14:38:31.434164Z",
     "start_time": "2024-09-14T14:38:31.425165Z"
    }
   },
   "cell_type": "code",
   "source": "",
   "id": "16abbc3eaf281a0e",
   "outputs": [],
   "execution_count": null
  },
  {
   "metadata": {
    "ExecuteTime": {
     "end_time": "2024-09-14T14:38:31.464165Z",
     "start_time": "2024-09-14T14:38:31.451165Z"
    }
   },
   "cell_type": "code",
   "source": "",
   "id": "bf6e8773b9031b08",
   "outputs": [],
   "execution_count": null
  }
 ],
 "metadata": {
  "kernelspec": {
   "display_name": "Python 3",
   "language": "python",
   "name": "python3"
  },
  "language_info": {
   "codemirror_mode": {
    "name": "ipython",
    "version": 2
   },
   "file_extension": ".py",
   "mimetype": "text/x-python",
   "name": "python",
   "nbconvert_exporter": "python",
   "pygments_lexer": "ipython2",
   "version": "2.7.6"
  }
 },
 "nbformat": 4,
 "nbformat_minor": 5
}
