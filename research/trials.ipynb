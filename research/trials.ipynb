{
 "cells": [
  {
   "metadata": {
    "ExecuteTime": {
     "end_time": "2024-09-12T18:32:22.126749Z",
     "start_time": "2024-09-12T18:32:22.112656Z"
    }
   },
   "cell_type": "code",
   "source": "d = {'key1': 'value1', 'key2': 'value2'}",
   "id": "b2fb71bd4787ef9b",
   "outputs": [],
   "execution_count": 26
  },
  {
   "metadata": {
    "ExecuteTime": {
     "end_time": "2024-09-12T18:32:22.560250Z",
     "start_time": "2024-09-12T18:32:22.542968Z"
    }
   },
   "cell_type": "code",
   "source": "d['key1']",
   "id": "5428d9df402ca22c",
   "outputs": [
    {
     "data": {
      "text/plain": [
       "'value1'"
      ]
     },
     "execution_count": 27,
     "metadata": {},
     "output_type": "execute_result"
    }
   ],
   "execution_count": 27
  },
  {
   "metadata": {
    "ExecuteTime": {
     "end_time": "2024-09-12T18:32:22.779030Z",
     "start_time": "2024-09-12T18:32:22.761031Z"
    }
   },
   "cell_type": "code",
   "source": "d.items()",
   "id": "a299879e7438a67d",
   "outputs": [
    {
     "data": {
      "text/plain": [
       "dict_items([('key1', 'value1'), ('key2', 'value2')])"
      ]
     },
     "execution_count": 28,
     "metadata": {},
     "output_type": "execute_result"
    }
   ],
   "execution_count": 28
  },
  {
   "metadata": {
    "ExecuteTime": {
     "end_time": "2024-09-12T18:32:23.122635Z",
     "start_time": "2024-09-12T18:32:23.094235Z"
    }
   },
   "cell_type": "code",
   "source": "d.key1",
   "id": "5d3492c502ef61fc",
   "outputs": [
    {
     "ename": "AttributeError",
     "evalue": "'dict' object has no attribute 'key1'",
     "output_type": "error",
     "traceback": [
      "\u001B[1;31m---------------------------------------------------------------------------\u001B[0m",
      "\u001B[1;31mAttributeError\u001B[0m                            Traceback (most recent call last)",
      "Cell \u001B[1;32mIn[29], line 1\u001B[0m\n\u001B[1;32m----> 1\u001B[0m \u001B[43md\u001B[49m\u001B[38;5;241;43m.\u001B[39;49m\u001B[43mkey1\u001B[49m\n",
      "\u001B[1;31mAttributeError\u001B[0m: 'dict' object has no attribute 'key1'"
     ]
    }
   ],
   "execution_count": 29
  },
  {
   "metadata": {
    "ExecuteTime": {
     "end_time": "2024-09-12T18:32:23.325343Z",
     "start_time": "2024-09-12T18:32:23.314961Z"
    }
   },
   "cell_type": "code",
   "source": "from box import ConfigBox",
   "id": "7316a680073528e1",
   "outputs": [],
   "execution_count": 30
  },
  {
   "metadata": {
    "ExecuteTime": {
     "end_time": "2024-09-12T18:32:23.481367Z",
     "start_time": "2024-09-12T18:32:23.459622Z"
    }
   },
   "cell_type": "code",
   "source": [
    "d2 = ConfigBox(d)\n",
    "d2"
   ],
   "id": "54f626f1b7d010e2",
   "outputs": [
    {
     "data": {
      "text/plain": [
       "ConfigBox({'key1': 'value1', 'key2': 'value2'})"
      ]
     },
     "execution_count": 31,
     "metadata": {},
     "output_type": "execute_result"
    }
   ],
   "execution_count": 31
  },
  {
   "metadata": {
    "ExecuteTime": {
     "end_time": "2024-09-12T18:32:23.668739Z",
     "start_time": "2024-09-12T18:32:23.651333Z"
    }
   },
   "cell_type": "code",
   "source": "d2.key1",
   "id": "7bdbfbc07ba047dc",
   "outputs": [
    {
     "data": {
      "text/plain": [
       "'value1'"
      ]
     },
     "execution_count": 32,
     "metadata": {},
     "output_type": "execute_result"
    }
   ],
   "execution_count": 32
  },
  {
   "metadata": {
    "ExecuteTime": {
     "end_time": "2024-09-12T18:32:23.856653Z",
     "start_time": "2024-09-12T18:32:23.844008Z"
    }
   },
   "cell_type": "code",
   "source": [
    "def get_prodict(x: int, y: int) -> int:\n",
    "    return x * y"
   ],
   "id": "169f328ad91316a0",
   "outputs": [],
   "execution_count": 33
  },
  {
   "metadata": {
    "ExecuteTime": {
     "end_time": "2024-09-12T18:32:24.229814Z",
     "start_time": "2024-09-12T18:32:24.212141Z"
    }
   },
   "cell_type": "code",
   "source": "get_prodict(x=2, y=4)",
   "id": "3029bc9805b834ba",
   "outputs": [
    {
     "data": {
      "text/plain": [
       "8"
      ]
     },
     "execution_count": 34,
     "metadata": {},
     "output_type": "execute_result"
    }
   ],
   "execution_count": 34
  },
  {
   "metadata": {
    "ExecuteTime": {
     "end_time": "2024-09-12T18:32:24.434745Z",
     "start_time": "2024-09-12T18:32:24.410746Z"
    }
   },
   "cell_type": "code",
   "source": "get_prodict(x=2, y=\"4\")",
   "id": "7a6999c39f5f2c1d",
   "outputs": [
    {
     "data": {
      "text/plain": [
       "'44'"
      ]
     },
     "execution_count": 35,
     "metadata": {},
     "output_type": "execute_result"
    }
   ],
   "execution_count": 35
  },
  {
   "metadata": {
    "ExecuteTime": {
     "end_time": "2024-09-12T18:32:24.686246Z",
     "start_time": "2024-09-12T18:32:24.667784Z"
    }
   },
   "cell_type": "code",
   "source": "from ensure import ensure_annotations",
   "id": "4e1bf5e97812f9be",
   "outputs": [],
   "execution_count": 36
  },
  {
   "metadata": {
    "ExecuteTime": {
     "end_time": "2024-09-12T18:32:24.890762Z",
     "start_time": "2024-09-12T18:32:24.868995Z"
    }
   },
   "cell_type": "code",
   "source": [
    "@ensure_annotations\n",
    "def get_prodict(x: int, y: int) -> int:\n",
    "    return x * y"
   ],
   "id": "d79f2e015b7d07af",
   "outputs": [],
   "execution_count": 37
  },
  {
   "metadata": {
    "ExecuteTime": {
     "end_time": "2024-09-12T18:32:25.046385Z",
     "start_time": "2024-09-12T18:32:25.034388Z"
    }
   },
   "cell_type": "code",
   "source": "get_prodict(x=2, y=4)",
   "id": "478eb11194df2540",
   "outputs": [
    {
     "data": {
      "text/plain": [
       "8"
      ]
     },
     "execution_count": 38,
     "metadata": {},
     "output_type": "execute_result"
    }
   ],
   "execution_count": 38
  },
  {
   "metadata": {
    "ExecuteTime": {
     "end_time": "2024-09-12T18:32:25.201284Z",
     "start_time": "2024-09-12T18:32:25.193777Z"
    }
   },
   "cell_type": "code",
   "source": [
    "try:\n",
    "    get_prodict(x=2, y=\"4\")\n",
    "except Exception as e:\n",
    "    print(e)"
   ],
   "id": "abe056423f6d3b3c",
   "outputs": [
    {
     "name": "stdout",
     "output_type": "stream",
     "text": [
      "Argument y of type <class 'str'> to <function get_prodict at 0x000001A8F564D360> does not match annotation type <class 'int'>\n"
     ]
    }
   ],
   "execution_count": 39
  },
  {
   "metadata": {
    "ExecuteTime": {
     "end_time": "2024-09-12T18:32:26.389188Z",
     "start_time": "2024-09-12T18:32:26.380116Z"
    }
   },
   "cell_type": "code",
   "source": "",
   "id": "b131505e6d6f7c00",
   "outputs": [],
   "execution_count": null
  }
 ],
 "metadata": {
  "kernelspec": {
   "display_name": "Python 3",
   "language": "python",
   "name": "python3"
  },
  "language_info": {
   "codemirror_mode": {
    "name": "ipython",
    "version": 2
   },
   "file_extension": ".py",
   "mimetype": "text/x-python",
   "name": "python",
   "nbconvert_exporter": "python",
   "pygments_lexer": "ipython2",
   "version": "2.7.6"
  }
 },
 "nbformat": 4,
 "nbformat_minor": 5
}
